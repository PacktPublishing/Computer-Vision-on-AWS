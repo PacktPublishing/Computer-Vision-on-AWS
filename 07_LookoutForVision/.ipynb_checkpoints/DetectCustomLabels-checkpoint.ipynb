{
 "cells": [
  {
   "cell_type": "markdown",
   "metadata": {},
   "source": [
    "# Amazon Rekognition Custom Labels\n",
    "\n",
    "This notebook uploads the `images/` content into Amazon S3 for processing with Rekognition."
   ]
  },
  {
   "cell_type": "markdown",
   "metadata": {},
   "source": [
    "First, you'll need to install the AWS SDK for Python-- [boto3](https://boto3.amazonaws.com/v1/documentation/api/latest/index.html). This module generates our service clients and simplifies accessing AWS APIs."
   ]
  },
  {
   "cell_type": "code",
   "execution_count": null,
   "metadata": {},
   "outputs": [],
   "source": [
    "!pip3 install boto3"
   ]
  },
  {
   "cell_type": "markdown",
   "metadata": {},
   "source": [
    "Next, configure this notebooks global settings. \n",
    "\n",
    "1. Set the `bucket_name` variable to an S3 bucket within your AWS account\n",
    "1. Set the `region_name` to the S3 bucket's region\n",
    "1. Create the `rekognition` client for the same region"
   ]
  },
  {
   "cell_type": "code",
   "execution_count": null,
   "metadata": {},
   "outputs": [],
   "source": [
    "import boto3 \n",
    "\n",
    "bucket_name = 'cv-on-aws-book-xxxx'\n",
    "region_name = 'us-east-2'\n",
    "rekognition = boto3.client('rekognition', region_name=region_name)\n",
    "model='arn:aws:rekognition:us-east-2:xxxxxxxxxxxx:project/Packt-logo-detection/version/Packt-logo-detection.2022-08-23T20.23.19/1661300599617'\n",
    "min_confidence=85"
   ]
  },
  {
   "cell_type": "markdown",
   "metadata": {},
   "source": [
    "Now, let's invoke the `DetectCustomLabels` API to inspect the `chapter_03/locate_packt_logo.jpeg` image."
   ]
  },
  {
   "cell_type": "code",
   "execution_count": null,
   "metadata": {},
   "outputs": [],
   "source": [
    "response = rekognition.detect_custom_labels(\n",
    "    Image={\n",
    "        'S3Object': {\n",
    "            'Bucket': bucket_name,\n",
    "            'Name': 'chapter_03/locate_packt_logo.jpeg'\n",
    "        }\n",
    "    },\n",
    "    MinConfidence=min_confidence,\n",
    "    ProjectVersionArn=model\n",
    ")\n",
    "\n",
    "print(response)"
   ]
  }
 ],
 "metadata": {
  "kernelspec": {
   "display_name": "Python 3 (Data Science)",
   "language": "python",
   "name": "python3__SAGEMAKER_INTERNAL__arn:aws:sagemaker:us-east-1:081325390199:image/datascience-1.0"
  },
  "language_info": {
   "codemirror_mode": {
    "name": "ipython",
    "version": 3
   },
   "file_extension": ".py",
   "mimetype": "text/x-python",
   "name": "python",
   "nbconvert_exporter": "python",
   "pygments_lexer": "ipython3",
   "version": "3.7.10"
  },
  "vscode": {
   "interpreter": {
    "hash": "5628284b50e4b6c9011efabc1680bd979bbb5388d9d40dd889329c704489cf65"
   }
  }
 },
 "nbformat": 4,
 "nbformat_minor": 4
}
