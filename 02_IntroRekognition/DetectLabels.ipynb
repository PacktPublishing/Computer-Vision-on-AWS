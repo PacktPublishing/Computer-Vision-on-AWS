{
 "cells": [
  {
   "attachments": {},
   "cell_type": "markdown",
   "metadata": {},
   "source": [
    "# Introduction to Amazon Rekognition\n",
    "\n",
    "This notebook uploads the `images/` content into Amazon S3 for processing with Rekognition."
   ]
  },
  {
   "attachments": {},
   "cell_type": "markdown",
   "metadata": {},
   "source": [
    "First, you'll need to install the AWS SDK for Python-- [boto3](https://boto3.amazonaws.com/v1/documentation/api/latest/index.html). This module generates our service clients and simplifies accessing AWS APIs."
   ]
  },
  {
   "cell_type": "code",
   "execution_count": 5,
   "metadata": {},
   "outputs": [
    {
     "name": "stdout",
     "output_type": "stream",
     "text": [
      "Requirement already satisfied: boto3 in c:\\tools\\python3.8\\lib\\site-packages (1.17.84)\n",
      "Requirement already satisfied: botocore<1.21.0,>=1.20.84 in c:\\tools\\python3.8\\lib\\site-packages (from boto3) (1.20.84)\n",
      "Requirement already satisfied: jmespath<1.0.0,>=0.7.1 in c:\\tools\\python3.8\\lib\\site-packages (from boto3) (0.10.0)\n",
      "Requirement already satisfied: s3transfer<0.5.0,>=0.4.0 in c:\\tools\\python3.8\\lib\\site-packages (from boto3) (0.4.2)\n",
      "Requirement already satisfied: python-dateutil<3.0.0,>=2.1 in c:\\tools\\python3.8\\lib\\site-packages (from botocore<1.21.0,>=1.20.84->boto3) (2.8.1)\n",
      "Requirement already satisfied: urllib3<1.27,>=1.25.4 in c:\\tools\\python3.8\\lib\\site-packages (from botocore<1.21.0,>=1.20.84->boto3) (1.26.2)\n",
      "Requirement already satisfied: six>=1.5 in c:\\tools\\python3.8\\lib\\site-packages (from python-dateutil<3.0.0,>=2.1->botocore<1.21.0,>=1.20.84->boto3) (1.15.0)\n"
     ]
    },
    {
     "name": "stderr",
     "output_type": "stream",
     "text": [
      "WARNING: You are using pip version 21.0; however, version 22.2.2 is available.\n",
      "You should consider upgrading via the 'c:\\tools\\python3.8\\python.exe -m pip install --upgrade pip' command.\n"
     ]
    }
   ],
   "source": [
    "!pip3 install boto3"
   ]
  },
  {
   "attachments": {},
   "cell_type": "markdown",
   "metadata": {},
   "source": [
    "Next, configure this notebooks global settings. \n",
    "\n",
    "1. Set the `bucket_name` variable to an S3 bucket within your AWS account\n",
    "1. Set the `region_name` to the S3 bucket's region\n",
    "1. Create the `rekognition` client for the same region"
   ]
  },
  {
   "cell_type": "code",
   "execution_count": 6,
   "metadata": {},
   "outputs": [],
   "source": [
    "import boto3 \n",
    "\n",
    "bucket_name = 'cv-on-aws-book-nbachmei'\n",
    "region_name = 'us-east-2'\n",
    "rekognition = boto3.client('rekognition', region_name=region_name)"
   ]
  },
  {
   "attachments": {},
   "cell_type": "markdown",
   "metadata": {},
   "source": [
    "Now, let's invoke the `DetectLabels` API to inspect the `images/skateboard.jpg` image."
   ]
  },
  {
   "cell_type": "code",
   "execution_count": 29,
   "metadata": {},
   "outputs": [
    {
     "name": "stdout",
     "output_type": "stream",
     "text": [
      "{'Labels': [{'Name': 'Car', 'Confidence': 99.15271759033203, 'Instances': [{'BoundingBox': {'Width': 0.10616335272789001, 'Height': 0.18528179824352264, 'Left': 0.0037978871259838343, 'Top': 0.5039216876029968}, 'Confidence': 99.15271759033203}, {'BoundingBox': {'Width': 0.2429988533258438, 'Height': 0.21577216684818268, 'Left': 0.7309805154800415, 'Top': 0.5251884460449219}, 'Confidence': 99.1286392211914}, {'BoundingBox': {'Width': 0.14233611524105072, 'Height': 0.15528248250484467, 'Left': 0.6494812965393066, 'Top': 0.5333095788955688}, 'Confidence': 98.48368072509766}, {'BoundingBox': {'Width': 0.11086395382881165, 'Height': 0.10271988064050674, 'Left': 0.10355594009160995, 'Top': 0.5354844927787781}, 'Confidence': 96.45606231689453}, {'BoundingBox': {'Width': 0.06254628300666809, 'Height': 0.053911514580249786, 'Left': 0.46083059906959534, 'Top': 0.5573825240135193}, 'Confidence': 93.65448760986328}, {'BoundingBox': {'Width': 0.10105428099632263, 'Height': 0.12226245552301407, 'Left': 0.5743986964225769, 'Top': 0.534368634223938}, 'Confidence': 93.06218719482422}, {'BoundingBox': {'Width': 0.056389667093753815, 'Height': 0.17163699865341187, 'Left': 0.9427769780158997, 'Top': 0.5235804319381714}, 'Confidence': 92.6864013671875}, {'BoundingBox': {'Width': 0.06003860384225845, 'Height': 0.06737709045410156, 'Left': 0.22409997880458832, 'Top': 0.5441341400146484}, 'Confidence': 90.4227066040039}, {'BoundingBox': {'Width': 0.02848697640001774, 'Height': 0.19150497019290924, 'Left': 0.0, 'Top': 0.5107086896896362}, 'Confidence': 86.65284729003906}, {'BoundingBox': {'Width': 0.04067886248230934, 'Height': 0.03428703173995018, 'Left': 0.3164159059524536, 'Top': 0.5566273927688599}, 'Confidence': 85.36465454101562}, {'BoundingBox': {'Width': 0.043411049991846085, 'Height': 0.0893595889210701, 'Left': 0.18293385207653046, 'Top': 0.5394920110702515}, 'Confidence': 82.21705627441406}, {'BoundingBox': {'Width': 0.031183116137981415, 'Height': 0.03989990055561066, 'Left': 0.2853088080883026, 'Top': 0.5579366683959961}, 'Confidence': 81.0157470703125}, {'BoundingBox': {'Width': 0.031113790348172188, 'Height': 0.056484755128622055, 'Left': 0.2580395042896271, 'Top': 0.5504819750785828}, 'Confidence': 56.13441467285156}, {'BoundingBox': {'Width': 0.08586374670267105, 'Height': 0.08550430089235306, 'Left': 0.5128012895584106, 'Top': 0.5438792705535889}, 'Confidence': 52.37760925292969}], 'Parents': [{'Name': 'Vehicle'}, {'Name': 'Transportation'}]}, {'Name': 'Automobile', 'Confidence': 99.15271759033203, 'Instances': [], 'Parents': [{'Name': 'Vehicle'}, {'Name': 'Transportation'}]}, {'Name': 'Vehicle', 'Confidence': 99.15271759033203, 'Instances': [], 'Parents': [{'Name': 'Transportation'}]}, {'Name': 'Transportation', 'Confidence': 99.15271759033203, 'Instances': [], 'Parents': []}, {'Name': 'Person', 'Confidence': 98.9914321899414, 'Instances': [{'BoundingBox': {'Width': 0.19360728561878204, 'Height': 0.2742200493812561, 'Left': 0.43734854459762573, 'Top': 0.35072067379951477}, 'Confidence': 98.9914321899414}, {'BoundingBox': {'Width': 0.03801717236638069, 'Height': 0.06597328186035156, 'Left': 0.9155802130699158, 'Top': 0.5010883808135986}, 'Confidence': 85.02790832519531}], 'Parents': []}, {'Name': 'Human', 'Confidence': 98.9914321899414, 'Instances': [], 'Parents': []}, {'Name': 'Wheel', 'Confidence': 93.24951934814453, 'Instances': [{'BoundingBox': {'Width': 0.03561960905790329, 'Height': 0.08878646790981293, 'Left': 0.7850857377052307, 'Top': 0.6468243598937988}, 'Confidence': 93.24951934814453}, {'BoundingBox': {'Width': 0.02217046171426773, 'Height': 0.07136218994855881, 'Left': 0.04757237061858177, 'Top': 0.6149078607559204}, 'Confidence': 91.5025863647461}, {'BoundingBox': {'Width': 0.016197510063648224, 'Height': 0.04955997318029404, 'Left': 0.6472989320755005, 'Top': 0.6274210214614868}, 'Confidence': 85.14686584472656}, {'BoundingBox': {'Width': 0.020207518711686134, 'Height': 0.07059963047504425, 'Left': 0.7295016646385193, 'Top': 0.6348286867141724}, 'Confidence': 83.34547424316406}, {'BoundingBox': {'Width': 0.020280985161662102, 'Height': 0.05297485366463661, 'Left': 0.08744934946298599, 'Top': 0.6171894669532776}, 'Confidence': 79.9981460571289}, {'BoundingBox': {'Width': 0.018318990245461464, 'Height': 0.06730121374130249, 'Left': 0.6836880445480347, 'Top': 0.623889148235321}, 'Confidence': 78.87144470214844}, {'BoundingBox': {'Width': 0.021310249343514442, 'Height': 0.08317798376083374, 'Left': 0.004064912907779217, 'Top': 0.6167286038398743}, 'Confidence': 75.89361572265625}, {'BoundingBox': {'Width': 0.03604431077837944, 'Height': 0.04569442570209503, 'Left': 0.9254803657531738, 'Top': 0.7030032277107239}, 'Confidence': 64.402587890625}, {'BoundingBox': {'Width': 0.009834849275648594, 'Height': 0.01964157074689865, 'Left': 0.28094568848609924, 'Top': 0.5821820497512817}, 'Confidence': 62.79907989501953}, {'BoundingBox': {'Width': 0.01475677452981472, 'Height': 0.039063986390829086, 'Left': 0.5950819253921509, 'Top': 0.6137543320655823}, 'Confidence': 59.40483474731445}], 'Parents': [{'Name': 'Machine'}]}, {'Name': 'Machine', 'Confidence': 93.24951934814453, 'Instances': [], 'Parents': []}, {'Name': 'Road', 'Confidence': 92.8219985961914, 'Instances': [], 'Parents': []}, {'Name': 'Pedestrian', 'Confidence': 92.77845001220703, 'Instances': [], 'Parents': [{'Name': 'Person'}]}, {'Name': 'Skateboard', 'Confidence': 92.37877655029297, 'Instances': [{'BoundingBox': {'Width': 0.12326609343290329, 'Height': 0.058117982000112534, 'Left': 0.44815489649772644, 'Top': 0.6332163214683533}, 'Confidence': 92.37877655029297}], 'Parents': [{'Name': 'Sport'}, {'Name': 'Person'}]}, {'Name': 'Sport', 'Confidence': 92.37877655029297, 'Instances': [], 'Parents': [{'Name': 'Person'}]}, {'Name': 'Sports', 'Confidence': 92.37877655029297, 'Instances': [], 'Parents': [{'Name': 'Person'}]}, {'Name': 'Path', 'Confidence': 89.38870239257812, 'Instances': [], 'Parents': []}, {'Name': 'Tarmac', 'Confidence': 89.22100067138672, 'Instances': [], 'Parents': []}, {'Name': 'Asphalt', 'Confidence': 89.22100067138672, 'Instances': [], 'Parents': []}, {'Name': 'City', 'Confidence': 80.63905334472656, 'Instances': [], 'Parents': [{'Name': 'Urban'}, {'Name': 'Building'}]}, {'Name': 'Town', 'Confidence': 80.63905334472656, 'Instances': [], 'Parents': [{'Name': 'Urban'}, {'Name': 'Building'}]}, {'Name': 'Urban', 'Confidence': 80.63905334472656, 'Instances': [], 'Parents': []}, {'Name': 'Building', 'Confidence': 80.63905334472656, 'Instances': [], 'Parents': []}, {'Name': 'Parking Lot', 'Confidence': 77.75724029541016, 'Instances': [], 'Parents': [{'Name': 'Car'}, {'Name': 'Vehicle'}, {'Name': 'Transportation'}]}, {'Name': 'Parking', 'Confidence': 77.75724029541016, 'Instances': [], 'Parents': [{'Name': 'Car'}, {'Name': 'Vehicle'}, {'Name': 'Transportation'}]}, {'Name': 'Downtown', 'Confidence': 74.91937255859375, 'Instances': [], 'Parents': [{'Name': 'City'}, {'Name': 'Urban'}, {'Name': 'Building'}]}, {'Name': 'Intersection', 'Confidence': 71.40776062011719, 'Instances': [], 'Parents': [{'Name': 'Road'}]}, {'Name': 'Sidewalk', 'Confidence': 57.26498031616211, 'Instances': [], 'Parents': [{'Name': 'Path'}]}, {'Name': 'Pavement', 'Confidence': 57.26498031616211, 'Instances': [], 'Parents': [{'Name': 'Path'}]}, {'Name': 'Coupe', 'Confidence': 56.920631408691406, 'Instances': [], 'Parents': [{'Name': 'Sports Car'}, {'Name': 'Car'}, {'Name': 'Vehicle'}, {'Name': 'Transportation'}]}, {'Name': 'Sports Car', 'Confidence': 56.920631408691406, 'Instances': [], 'Parents': [{'Name': 'Car'}, {'Name': 'Vehicle'}, {'Name': 'Transportation'}]}, {'Name': 'Neighborhood', 'Confidence': 55.67051696777344, 'Instances': [], 'Parents': [{'Name': 'Urban'}, {'Name': 'Building'}]}], 'LabelModelVersion': '2.0', 'ResponseMetadata': {'RequestId': 'a465e753-3366-4820-8a30-ff02a38c2aa5', 'HTTPStatusCode': 200, 'HTTPHeaders': {'x-amzn-requestid': 'a465e753-3366-4820-8a30-ff02a38c2aa5', 'content-type': 'application/x-amz-json-1.1', 'content-length': '7221', 'date': 'Sun, 14 Aug 2022 19:15:13 GMT'}, 'RetryAttempts': 0}}\n"
     ]
    }
   ],
   "source": [
    "response = rekognition.detect_labels(\n",
    "    Image={\n",
    "        'S3Object': {\n",
    "            'Bucket': bucket_name,\n",
    "            'Name': 'chapter_02/images/skateboard.jpg'\n",
    "        }\n",
    "    })\n",
    "\n",
    "print(response)"
   ]
  },
  {
   "attachments": {},
   "cell_type": "markdown",
   "metadata": {},
   "source": [
    "Next, let's persist this output into a JSON-formatted document."
   ]
  },
  {
   "cell_type": "code",
   "execution_count": 8,
   "metadata": {},
   "outputs": [],
   "source": [
    "from json import dumps\n",
    "with open('response.json', 'w') as f:\n",
    "    f.write(dumps(response, indent=2))"
   ]
  },
  {
   "attachments": {},
   "cell_type": "markdown",
   "metadata": {},
   "source": [
    "You probably noticed that several labels have a low `confidence` score. Let's filter those out and find the top-10 best labels."
   ]
  },
  {
   "cell_type": "code",
   "execution_count": 9,
   "metadata": {},
   "outputs": [
    {
     "name": "stdout",
     "output_type": "stream",
     "text": [
      "{\n",
      "  \"Labels\": [\n",
      "    {\n",
      "      \"Name\": \"Car\",\n",
      "      \"Confidence\": 99.15271759033203,\n",
      "      \"Instances\": [\n",
      "        {\n",
      "          \"BoundingBox\": {\n",
      "            \"Width\": 0.10616335272789001,\n",
      "            \"Height\": 0.18528179824352264,\n",
      "            \"Left\": 0.0037978871259838343,\n",
      "            \"Top\": 0.5039216876029968\n",
      "          },\n",
      "          \"Confidence\": 99.15271759033203\n",
      "        },\n",
      "        {\n",
      "          \"BoundingBox\": {\n",
      "            \"Width\": 0.2429988533258438,\n",
      "            \"Height\": 0.21577216684818268,\n",
      "            \"Left\": 0.7309805154800415,\n",
      "            \"Top\": 0.5251884460449219\n",
      "          },\n",
      "          \"Confidence\": 99.1286392211914\n",
      "        },\n",
      "        {\n",
      "          \"BoundingBox\": {\n",
      "            \"Width\": 0.14233611524105072,\n",
      "            \"Height\": 0.15528248250484467,\n",
      "            \"Left\": 0.6494812965393066,\n",
      "            \"Top\": 0.5333095788955688\n",
      "          },\n",
      "          \"Confidence\": 98.48368072509766\n",
      "        },\n",
      "        {\n",
      "          \"BoundingBox\": {\n",
      "            \"Width\": 0.11086395382881165,\n",
      "            \"Height\": 0.10271988064050674,\n",
      "            \"Left\": 0.10355594009160995,\n",
      "            \"Top\": 0.5354844927787781\n",
      "          },\n",
      "          \"Confidence\": 96.45606231689453\n",
      "        },\n",
      "        {\n",
      "          \"BoundingBox\": {\n",
      "            \"Width\": 0.06254628300666809,\n",
      "            \"Height\": 0.053911514580249786,\n",
      "            \"Left\": 0.46083059906959534,\n",
      "            \"Top\": 0.5573825240135193\n",
      "          },\n",
      "          \"Confidence\": 93.65448760986328\n",
      "        },\n",
      "        {\n",
      "          \"BoundingBox\": {\n",
      "            \"Width\": 0.10105428099632263,\n",
      "            \"Height\": 0.12226245552301407,\n",
      "            \"Left\": 0.5743986964225769,\n",
      "            \"Top\": 0.534368634223938\n",
      "          },\n",
      "          \"Confidence\": 93.06218719482422\n",
      "        },\n",
      "        {\n",
      "          \"BoundingBox\": {\n",
      "            \"Width\": 0.056389667093753815,\n",
      "            \"Height\": 0.17163699865341187,\n",
      "            \"Left\": 0.9427769780158997,\n",
      "            \"Top\": 0.5235804319381714\n",
      "          },\n",
      "          \"Confidence\": 92.6864013671875\n",
      "        },\n",
      "        {\n",
      "          \"BoundingBox\": {\n",
      "            \"Width\": 0.06003860384225845,\n",
      "            \"Height\": 0.06737709045410156,\n",
      "            \"Left\": 0.22409997880458832,\n",
      "            \"Top\": 0.5441341400146484\n",
      "          },\n",
      "          \"Confidence\": 90.4227066040039\n",
      "        },\n",
      "        {\n",
      "          \"BoundingBox\": {\n",
      "            \"Width\": 0.02848697640001774,\n",
      "            \"Height\": 0.19150497019290924,\n",
      "            \"Left\": 0.0,\n",
      "            \"Top\": 0.5107086896896362\n",
      "          },\n",
      "          \"Confidence\": 86.65284729003906\n",
      "        },\n",
      "        {\n",
      "          \"BoundingBox\": {\n",
      "            \"Width\": 0.04067886248230934,\n",
      "            \"Height\": 0.03428703173995018,\n",
      "            \"Left\": 0.3164159059524536,\n",
      "            \"Top\": 0.5566273927688599\n",
      "          },\n",
      "          \"Confidence\": 85.36465454101562\n",
      "        },\n",
      "        {\n",
      "          \"BoundingBox\": {\n",
      "            \"Width\": 0.043411049991846085,\n",
      "            \"Height\": 0.0893595889210701,\n",
      "            \"Left\": 0.18293385207653046,\n",
      "            \"Top\": 0.5394920110702515\n",
      "          },\n",
      "          \"Confidence\": 82.21705627441406\n",
      "        },\n",
      "        {\n",
      "          \"BoundingBox\": {\n",
      "            \"Width\": 0.031183116137981415,\n",
      "            \"Height\": 0.03989990055561066,\n",
      "            \"Left\": 0.2853088080883026,\n",
      "            \"Top\": 0.5579366683959961\n",
      "          },\n",
      "          \"Confidence\": 81.0157470703125\n",
      "        },\n",
      "        {\n",
      "          \"BoundingBox\": {\n",
      "            \"Width\": 0.031113790348172188,\n",
      "            \"Height\": 0.056484755128622055,\n",
      "            \"Left\": 0.2580395042896271,\n",
      "            \"Top\": 0.5504819750785828\n",
      "          },\n",
      "          \"Confidence\": 56.13441467285156\n",
      "        },\n",
      "        {\n",
      "          \"BoundingBox\": {\n",
      "            \"Width\": 0.08586374670267105,\n",
      "            \"Height\": 0.08550430089235306,\n",
      "            \"Left\": 0.5128012895584106,\n",
      "            \"Top\": 0.5438792705535889\n",
      "          },\n",
      "          \"Confidence\": 52.37760925292969\n",
      "        }\n",
      "      ],\n",
      "      \"Parents\": [\n",
      "        {\n",
      "          \"Name\": \"Vehicle\"\n",
      "        },\n",
      "        {\n",
      "          \"Name\": \"Transportation\"\n",
      "        }\n",
      "      ]\n",
      "    },\n",
      "    {\n",
      "      \"Name\": \"Vehicle\",\n",
      "      \"Confidence\": 99.15271759033203,\n",
      "      \"Instances\": [],\n",
      "      \"Parents\": [\n",
      "        {\n",
      "          \"Name\": \"Transportation\"\n",
      "        }\n",
      "      ]\n",
      "    },\n",
      "    {\n",
      "      \"Name\": \"Transportation\",\n",
      "      \"Confidence\": 99.15271759033203,\n",
      "      \"Instances\": [],\n",
      "      \"Parents\": []\n",
      "    },\n",
      "    {\n",
      "      \"Name\": \"Person\",\n",
      "      \"Confidence\": 98.9914321899414,\n",
      "      \"Instances\": [\n",
      "        {\n",
      "          \"BoundingBox\": {\n",
      "            \"Width\": 0.19360728561878204,\n",
      "            \"Height\": 0.2742200493812561,\n",
      "            \"Left\": 0.43734854459762573,\n",
      "            \"Top\": 0.35072067379951477\n",
      "          },\n",
      "          \"Confidence\": 98.9914321899414\n",
      "        },\n",
      "        {\n",
      "          \"BoundingBox\": {\n",
      "            \"Width\": 0.03801717236638069,\n",
      "            \"Height\": 0.06597328186035156,\n",
      "            \"Left\": 0.9155802130699158,\n",
      "            \"Top\": 0.5010883808135986\n",
      "          },\n",
      "          \"Confidence\": 85.02790832519531\n",
      "        }\n",
      "      ],\n",
      "      \"Parents\": []\n",
      "    },\n",
      "    {\n",
      "      \"Name\": \"Wheel\",\n",
      "      \"Confidence\": 93.24951934814453,\n",
      "      \"Instances\": [\n",
      "        {\n",
      "          \"BoundingBox\": {\n",
      "            \"Width\": 0.03561960905790329,\n",
      "            \"Height\": 0.08878646790981293,\n",
      "            \"Left\": 0.7850857377052307,\n",
      "            \"Top\": 0.6468243598937988\n",
      "          },\n",
      "          \"Confidence\": 93.24951934814453\n",
      "        },\n",
      "        {\n",
      "          \"BoundingBox\": {\n",
      "            \"Width\": 0.02217046171426773,\n",
      "            \"Height\": 0.07136218994855881,\n",
      "            \"Left\": 0.04757237061858177,\n",
      "            \"Top\": 0.6149078607559204\n",
      "          },\n",
      "          \"Confidence\": 91.5025863647461\n",
      "        },\n",
      "        {\n",
      "          \"BoundingBox\": {\n",
      "            \"Width\": 0.016197510063648224,\n",
      "            \"Height\": 0.04955997318029404,\n",
      "            \"Left\": 0.6472989320755005,\n",
      "            \"Top\": 0.6274210214614868\n",
      "          },\n",
      "          \"Confidence\": 85.14686584472656\n",
      "        },\n",
      "        {\n",
      "          \"BoundingBox\": {\n",
      "            \"Width\": 0.020207518711686134,\n",
      "            \"Height\": 0.07059963047504425,\n",
      "            \"Left\": 0.7295016646385193,\n",
      "            \"Top\": 0.6348286867141724\n",
      "          },\n",
      "          \"Confidence\": 83.34547424316406\n",
      "        },\n",
      "        {\n",
      "          \"BoundingBox\": {\n",
      "            \"Width\": 0.020280985161662102,\n",
      "            \"Height\": 0.05297485366463661,\n",
      "            \"Left\": 0.08744934946298599,\n",
      "            \"Top\": 0.6171894669532776\n",
      "          },\n",
      "          \"Confidence\": 79.9981460571289\n",
      "        },\n",
      "        {\n",
      "          \"BoundingBox\": {\n",
      "            \"Width\": 0.018318990245461464,\n",
      "            \"Height\": 0.06730121374130249,\n",
      "            \"Left\": 0.6836880445480347,\n",
      "            \"Top\": 0.623889148235321\n",
      "          },\n",
      "          \"Confidence\": 78.87144470214844\n",
      "        },\n",
      "        {\n",
      "          \"BoundingBox\": {\n",
      "            \"Width\": 0.021310249343514442,\n",
      "            \"Height\": 0.08317798376083374,\n",
      "            \"Left\": 0.004064912907779217,\n",
      "            \"Top\": 0.6167286038398743\n",
      "          },\n",
      "          \"Confidence\": 75.89361572265625\n",
      "        },\n",
      "        {\n",
      "          \"BoundingBox\": {\n",
      "            \"Width\": 0.03604431077837944,\n",
      "            \"Height\": 0.04569442570209503,\n",
      "            \"Left\": 0.9254803657531738,\n",
      "            \"Top\": 0.7030032277107239\n",
      "          },\n",
      "          \"Confidence\": 64.402587890625\n",
      "        },\n",
      "        {\n",
      "          \"BoundingBox\": {\n",
      "            \"Width\": 0.009834849275648594,\n",
      "            \"Height\": 0.01964157074689865,\n",
      "            \"Left\": 0.28094568848609924,\n",
      "            \"Top\": 0.5821820497512817\n",
      "          },\n",
      "          \"Confidence\": 62.79907989501953\n",
      "        },\n",
      "        {\n",
      "          \"BoundingBox\": {\n",
      "            \"Width\": 0.01475677452981472,\n",
      "            \"Height\": 0.039063986390829086,\n",
      "            \"Left\": 0.5950819253921509,\n",
      "            \"Top\": 0.6137543320655823\n",
      "          },\n",
      "          \"Confidence\": 59.40483474731445\n",
      "        }\n",
      "      ],\n",
      "      \"Parents\": []\n",
      "    },\n",
      "    {\n",
      "      \"Name\": \"Road\",\n",
      "      \"Confidence\": 92.8219985961914,\n",
      "      \"Instances\": [],\n",
      "      \"Parents\": []\n",
      "    },\n",
      "    {\n",
      "      \"Name\": \"Pedestrian\",\n",
      "      \"Confidence\": 92.77845001220703,\n",
      "      \"Instances\": [],\n",
      "      \"Parents\": [\n",
      "        {\n",
      "          \"Name\": \"Person\"\n",
      "        }\n",
      "      ]\n",
      "    },\n",
      "    {\n",
      "      \"Name\": \"Skateboard\",\n",
      "      \"Confidence\": 92.37877655029297,\n",
      "      \"Instances\": [\n",
      "        {\n",
      "          \"BoundingBox\": {\n",
      "            \"Width\": 0.12326609343290329,\n",
      "            \"Height\": 0.058117982000112534,\n",
      "            \"Left\": 0.44815489649772644,\n",
      "            \"Top\": 0.6332163214683533\n",
      "          },\n",
      "          \"Confidence\": 92.37877655029297\n",
      "        }\n",
      "      ],\n",
      "      \"Parents\": [\n",
      "        {\n",
      "          \"Name\": \"Person\"\n",
      "        }\n",
      "      ]\n",
      "    },\n",
      "    {\n",
      "      \"Name\": \"Path\",\n",
      "      \"Confidence\": 89.38870239257812,\n",
      "      \"Instances\": [],\n",
      "      \"Parents\": []\n",
      "    },\n",
      "    {\n",
      "      \"Name\": \"Tarmac\",\n",
      "      \"Confidence\": 89.22100067138672,\n",
      "      \"Instances\": [],\n",
      "      \"Parents\": []\n",
      "    }\n",
      "  ],\n",
      "  \"LabelModelVersion\": \"2.0\",\n",
      "  \"ResponseMetadata\": {\n",
      "    \"RequestId\": \"a211e404-c397-4f95-ac4f-0ebd94b57fe4\",\n",
      "    \"HTTPStatusCode\": 200,\n",
      "    \"HTTPHeaders\": {\n",
      "      \"x-amzn-requestid\": \"a211e404-c397-4f95-ac4f-0ebd94b57fe4\",\n",
      "      \"content-type\": \"application/x-amz-json-1.1\",\n",
      "      \"content-length\": \"5153\",\n",
      "      \"date\": \"Sun, 14 Aug 2022 19:05:57 GMT\"\n",
      "    },\n",
      "    \"RetryAttempts\": 0\n",
      "  }\n",
      "}\n"
     ]
    }
   ],
   "source": [
    "from json import dumps\n",
    "filtered_response = rekognition.detect_labels(\n",
    "    Image={\n",
    "        'S3Object': {\n",
    "            'Bucket': bucket_name,\n",
    "            'Name': 'chapter_02/images/skateboard.jpg'\n",
    "        },\n",
    "    },\n",
    "    MinConfidence= 80,\n",
    "    MaxLabels= 10\n",
    "    )\n",
    "\n",
    "print(dumps(filtered_response, indent=2))"
   ]
  },
  {
   "attachments": {},
   "cell_type": "markdown",
   "metadata": {},
   "source": [
    "The `DetectLabel` API returns a set of hierarchical labels. Let's use the `treelib` module to render taxonomy. "
   ]
  },
  {
   "cell_type": "code",
   "execution_count": 10,
   "metadata": {},
   "outputs": [
    {
     "name": "stdout",
     "output_type": "stream",
     "text": [
      "Response\n",
      "├── Asphalt\n",
      "├── Building\n",
      "│   ├── Downtown\n",
      "│   └── Neighborhood\n",
      "├── Car\n",
      "│   ├── Coupe\n",
      "│   ├── Parking\n",
      "│   ├── Parking Lot\n",
      "│   └── Sports Car\n",
      "├── City\n",
      "│   └── Downtown\n",
      "├── Human\n",
      "├── Machine\n",
      "├── Path\n",
      "│   ├── Pavement\n",
      "│   └── Sidewalk\n",
      "├── Person\n",
      "│   ├── Pedestrian\n",
      "│   ├── Skateboard\n",
      "│   ├── Sport\n",
      "│   └── Sports\n",
      "├── Road\n",
      "│   └── Intersection\n",
      "├── Sport\n",
      "│   └── Skateboard\n",
      "├── Sports Car\n",
      "│   └── Coupe\n",
      "├── Tarmac\n",
      "├── Transportation\n",
      "│   ├── Coupe\n",
      "│   ├── Parking\n",
      "│   ├── Parking Lot\n",
      "│   └── Sports Car\n",
      "├── Urban\n",
      "│   ├── Downtown\n",
      "│   └── Neighborhood\n",
      "└── Vehicle\n",
      "    ├── Automobile\n",
      "    ├── Car\n",
      "    ├── Coupe\n",
      "    ├── Parking\n",
      "    ├── Parking Lot\n",
      "    └── Sports Car\n",
      "\n"
     ]
    }
   ],
   "source": [
    "from typing import Mapping, List\n",
    "from json import dumps\n",
    "from treelib import Node, Tree\n",
    "\n",
    "labels:Mapping[str,List[str]] = {}\n",
    "for label in response['Labels']:\n",
    "    parents = [x['Name'] for x in label['Parents']]\n",
    "    name = label['Name']\n",
    "\n",
    "    if len(parents) == 0:\n",
    "        labels[name] = []\n",
    "    else:\n",
    "        for parent in parents:\n",
    "            if parent in labels:\n",
    "                labels[parent].append(name)\n",
    "            else:\n",
    "                labels[parent] = [name]\n",
    "\n",
    "tree = Tree()\n",
    "root = tree.create_node('Response')\n",
    "for [label,children] in labels.items():\n",
    "    node = tree.create_node(label, parent=root.identifier)\n",
    "    for child in children:\n",
    "        tree.create_node(child, parent=node.identifier)\n",
    "\n",
    "tree.show()"
   ]
  },
  {
   "attachments": {},
   "cell_type": "markdown",
   "metadata": {},
   "source": [
    "Let's draw a rectangle around the `Skateboard`. This task requires first finding the label's `BoundingBox` information."
   ]
  },
  {
   "cell_type": "code",
   "execution_count": 11,
   "metadata": {},
   "outputs": [
    {
     "name": "stdout",
     "output_type": "stream",
     "text": [
      "[\n",
      "  {\n",
      "    \"Name\": \"Skateboard\",\n",
      "    \"Confidence\": 92.37877655029297,\n",
      "    \"Instances\": [\n",
      "      {\n",
      "        \"BoundingBox\": {\n",
      "          \"Width\": 0.12326609343290329,\n",
      "          \"Height\": 0.058117982000112534,\n",
      "          \"Left\": 0.44815489649772644,\n",
      "          \"Top\": 0.6332163214683533\n",
      "        },\n",
      "        \"Confidence\": 92.37877655029297\n",
      "      }\n",
      "    ],\n",
      "    \"Parents\": [\n",
      "      {\n",
      "        \"Name\": \"Sport\"\n",
      "      },\n",
      "      {\n",
      "        \"Name\": \"Person\"\n",
      "      }\n",
      "    ]\n",
      "  }\n",
      "]\n"
     ]
    }
   ],
   "source": [
    "from json import dumps\n",
    "\n",
    "skateboards = []\n",
    "for label in response['Labels']:\n",
    "    if label['Name'] == 'Skateboard':\n",
    "        skateboards.append(label)\n",
    "\n",
    "print(dumps(skateboards, indent=2))"
   ]
  },
  {
   "attachments": {},
   "cell_type": "markdown",
   "metadata": {},
   "source": [
    "The `treelib` module provides a simple API for creating our trees."
   ]
  },
  {
   "cell_type": "code",
   "execution_count": 12,
   "metadata": {},
   "outputs": [
    {
     "name": "stdout",
     "output_type": "stream",
     "text": [
      "Transportation\n",
      "└── Vehicle\n",
      "    └── Car\n",
      "        └── Sedan\n",
      "\n"
     ]
    }
   ],
   "source": [
    "from treelib import Tree, Node\n",
    "\n",
    "myTree = Tree()\n",
    "transportation_node = myTree.create_node('Transportation')\n",
    "vehicle_node = myTree.create_node('Vehicle', parent=transportation_node.identifier)\n",
    "car_node = myTree.create_node('Car', parent=vehicle_node.identifier)\n",
    "sedan_node = myTree.create_node('Sedan', parent=car_node.identifier)\n",
    "\n",
    "myTree.show()"
   ]
  },
  {
   "attachments": {},
   "cell_type": "markdown",
   "metadata": {},
   "source": [
    "Let's use the `treelib` module to render the response from the `DetectLabel` API."
   ]
  },
  {
   "cell_type": "code",
   "execution_count": 15,
   "metadata": {},
   "outputs": [
    {
     "name": "stdout",
     "output_type": "stream",
     "text": [
      "Response\n",
      "├── LabelModelVersion : 2.0\n",
      "└── Labels: 29 total\n",
      "    ├──             Car - [Confidence: 99.15%]\n",
      "    ├──            Road - [Confidence: 92.82%]\n",
      "    ├──           Human - [Confidence: 98.99%]\n",
      "    ├──           Wheel - [Confidence: 93.25%]\n",
      "    ├──          Person - [Confidence: 98.99%]\n",
      "    ├──         Machine - [Confidence: 93.25%]\n",
      "    ├──         Vehicle - [Confidence: 99.15%]\n",
      "    ├──      Automobile - [Confidence: 99.15%]\n",
      "    ├──      Pedestrian - [Confidence: 92.78%]\n",
      "    └──  Transportation - [Confidence: 99.15%]\n",
      "\n"
     ]
    }
   ],
   "source": [
    "from treelib import Tree, Node\n",
    "\n",
    "another_tree = Tree()\n",
    "root = another_tree.create_node('Response')\n",
    "model_version_node = another_tree.create_node(\n",
    "    'LabelModelVersion : %s' % response['LabelModelVersion'],\n",
    "    parent=root.identifier)\n",
    "labels_node = another_tree.create_node(\n",
    "    'Labels: %d total' % len(response['Labels']),\n",
    "    parent=root.identifier)\n",
    "\n",
    "sorted_by_confidence = sorted(\n",
    "    response['Labels'],\n",
    "    key=lambda label: label['Confidence'], \n",
    "    reverse=True)\n",
    "\n",
    "top_10 = sorted_by_confidence[:10]\n",
    "\n",
    "for label in top_10:\n",
    "    name = label['Name']    \n",
    "    confidence = label['Confidence']\n",
    "    label_node = another_tree.create_node(\n",
    "        '%15s - [Confidence: %2.2f%%]' % (name, confidence),\n",
    "        parent=labels_node.identifier)\n",
    "\n",
    "another_tree.show()"
   ]
  },
  {
   "attachments": {},
   "cell_type": "markdown",
   "metadata": {},
   "source": [
    "Let's encapsulate our label search logic into the `find_first_label` function."
   ]
  },
  {
   "cell_type": "code",
   "execution_count": 30,
   "metadata": {},
   "outputs": [
    {
     "name": "stdout",
     "output_type": "stream",
     "text": [
      "{\n",
      "  \"Name\": \"Skateboard\",\n",
      "  \"Confidence\": 92.37877655029297,\n",
      "  \"Instances\": [\n",
      "    {\n",
      "      \"BoundingBox\": {\n",
      "        \"Width\": 0.12326609343290329,\n",
      "        \"Height\": 0.058117982000112534,\n",
      "        \"Left\": 0.44815489649772644,\n",
      "        \"Top\": 0.6332163214683533\n",
      "      },\n",
      "      \"Confidence\": 92.37877655029297\n",
      "    }\n",
      "  ],\n",
      "  \"Parents\": [\n",
      "    {\n",
      "      \"Name\": \"Sport\"\n",
      "    },\n",
      "    {\n",
      "      \"Name\": \"Person\"\n",
      "    }\n",
      "  ]\n",
      "}\n"
     ]
    }
   ],
   "source": [
    "from json import dumps\n",
    "\n",
    "def find_first_label(response, label_name):  \n",
    "    for label in response['Labels']:\n",
    "        if label['Name'] == label_name:\n",
    "            return label\n",
    "\n",
    "    print('Unable to find a %s label' % label_name)\n",
    "    return None\n",
    "   \n",
    "skateboard = find_first_label(response, 'Skateboard')\n",
    "print(dumps(skateboard, indent=2))"
   ]
  },
  {
   "attachments": {},
   "cell_type": "markdown",
   "metadata": {},
   "source": [
    "Use the Amazon S3 `GetObject` API to download the `skateboard.jpg`"
   ]
  },
  {
   "cell_type": "code",
   "execution_count": 20,
   "metadata": {},
   "outputs": [],
   "source": [
    "import boto3\n",
    "\n",
    "s3_client= boto3.client('s3', region_name=region_name)\n",
    "image_file = s3_client.get_object(\n",
    "    Bucket= bucket_name,\n",
    "    Key= 'chapter_02/images/skateboard.jpg')\n",
    "\n",
    "image_bytes = image_file['Body'].read()\n"
   ]
  },
  {
   "attachments": {},
   "cell_type": "markdown",
   "metadata": {},
   "source": [
    "The Python Image Library (PIL) lets you read, write, and mutate image files."
   ]
  },
  {
   "cell_type": "code",
   "execution_count": 19,
   "metadata": {},
   "outputs": [
    {
     "name": "stderr",
     "output_type": "stream",
     "text": [
      "ERROR: Could not find a version that satisfies the requirement PIL\n",
      "ERROR: No matching distribution found for PIL\n",
      "WARNING: You are using pip version 21.0; however, version 22.2.2 is available.\n",
      "You should consider upgrading via the 'c:\\tools\\python3.8\\python.exe -m pip install --upgrade pip' command.\n"
     ]
    }
   ],
   "source": [
    "!pip3 install pillow"
   ]
  },
  {
   "attachments": {},
   "cell_type": "markdown",
   "metadata": {},
   "source": [
    "You can pass the `image_bytes` to the `Image.open` function using the `BytesIO` object. This approach avoids writing the bytes to disk and then reading them back."
   ]
  },
  {
   "cell_type": "code",
   "execution_count": 54,
   "metadata": {},
   "outputs": [
    {
     "name": "stdout",
     "output_type": "stream",
     "text": [
      "(1200, 800)\n"
     ]
    }
   ],
   "source": [
    "from PIL import Image\n",
    "from io import BytesIO\n",
    "\n",
    "image = Image.open(BytesIO(image_bytes))\n",
    "print(image.size)\n",
    "\n",
    "image.show()"
   ]
  },
  {
   "attachments": {},
   "cell_type": "markdown",
   "metadata": {},
   "source": [
    "Next, let's denormalize the `BoundingBox` and draw it around the skakeboard."
   ]
  },
  {
   "cell_type": "code",
   "execution_count": 55,
   "metadata": {},
   "outputs": [
    {
     "name": "stdout",
     "output_type": "stream",
     "text": [
      "width=147; height=46; top=506; left=537\n"
     ]
    }
   ],
   "source": [
    "from PIL import Image, ImageDraw\n",
    "\n",
    "drawing = ImageDraw.Draw(image)\n",
    "for instance in skateboard['Instances']:\n",
    "    bounding_box = instance['BoundingBox']\n",
    "    \n",
    "    width = int(bounding_box['Width'] * image.size[0])\n",
    "    left = int(bounding_box['Left'] * image.size[0])\n",
    "\n",
    "    height = int(bounding_box['Height'] * image.size[1])\n",
    "    top = int(bounding_box['Top'] * image.size[1])\n",
    "        \n",
    "    drawing.rectangle(\n",
    "        xy=(left,top,left+width, left+height),\n",
    "        outline='red')\n",
    "\n",
    "image.show() "
   ]
  },
  {
   "attachments": {},
   "cell_type": "markdown",
   "metadata": {},
   "source": [
    "Several Amazon Rekognition APIs support base64 encoding the image and passing directly to the action. This process lets you skip placing the file in Amazon S3 first. "
   ]
  },
  {
   "cell_type": "code",
   "execution_count": 4,
   "metadata": {},
   "outputs": [],
   "source": [
    "import boto3\n",
    "from base64 import b64encode\n",
    "\n",
    "rekognition = boto3.client('rekognition')\n",
    "\n",
    "with open('images/skateboard.jpg','rb') as f:\n",
    "    image_bytes = b64encode(f.read())\n",
    "\n",
    "    rekognition.detect_labels(\n",
    "        Image={\n",
    "            \"Bytes\": image_bytes\n",
    "        })"
   ]
  }
 ],
 "metadata": {
  "kernelspec": {
   "display_name": "Python 3.10.2 64-bit",
   "language": "python",
   "name": "python3"
  },
  "language_info": {
   "codemirror_mode": {
    "name": "ipython",
    "version": 3
   },
   "file_extension": ".py",
   "mimetype": "text/x-python",
   "name": "python",
   "nbconvert_exporter": "python",
   "pygments_lexer": "ipython3",
   "version": "3.10.2"
  },
  "vscode": {
   "interpreter": {
    "hash": "5628284b50e4b6c9011efabc1680bd979bbb5388d9d40dd889329c704489cf65"
   }
  }
 },
 "nbformat": 4,
 "nbformat_minor": 2
}
