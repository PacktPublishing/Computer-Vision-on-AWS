{
 "cells": [
  {
   "cell_type": "markdown",
   "metadata": {},
   "source": [
    "# Amazon SageMaker Augmented AI (A2I)"
   ]
  },
  {
   "cell_type": "markdown",
   "metadata": {},
   "source": [
    "Use the following command to copy images to S3 location"
   ]
  },
  {
   "cell_type": "code",
   "execution_count": null,
   "metadata": {},
   "outputs": [],
   "source": [
    "!aws s3 sync 11_AmazonA2I/images s3://cv-on-aws-book-xxxx/chapter_11/images --region us-east-2"
   ]
  },
  {
   "cell_type": "code",
   "execution_count": null,
   "metadata": {},
   "outputs": [],
   "source": []
  },
  {
   "cell_type": "markdown",
   "metadata": {
    "tags": []
   },
   "source": [
    "Now, let's invoke the `DetectModerationLabels` API with HumanLoopConfig as a parameter to inspect the `chapter_11/images/image1.jpg` image."
   ]
  },
  {
   "cell_type": "code",
   "execution_count": null,
   "metadata": {},
   "outputs": [],
   "source": [
    "!aws rekognition detect-moderation-labels \\\n",
    "    --region us-east-2 \\\n",
    "    --image \"S3Object={Bucket='cv-on-aws-book-xxxx', Name='chapter_11/images/image1.jpg'}\" \\\n",
    "    --human-loop-config '{\"HumanLoopName\": \"image-review-human-loop\", \"FlowDefinitionArn\": \"arn:aws:sagemaker:us-east-2:xxxxxxxxxxxx:flow-definition/unsafe-image-review-workflow\", \"DataAttributes\": {\"ContentClassifiers\": [\"FreeOfPersonallyIdentifiableInformation\", \"FreeOfAdultContent\"]}}'"
   ]
  },
  {
   "cell_type": "markdown",
   "metadata": {},
   "source": [
    "Let's invoke the `DetectModerationLabels` API to inspect `chapter_11/images/image2.jpg` image"
   ]
  },
  {
   "cell_type": "code",
   "execution_count": null,
   "metadata": {},
   "outputs": [],
   "source": [
    "!aws rekognition detect-moderation-labels \\\n",
    "    --region us-east-2 \\\n",
    "    --image \"S3Object={Bucket='cv-on-aws-book-xxxx', Name='chapter_11/images/image2.jpg'}\" \\\n",
    "    --human-loop-config '{\"HumanLoopName\": \"image-review-human-loop\", \"FlowDefinitionArn\": \"arn:aws:sagemaker:us-east-2:xxxxxxxxxxxx:flow-definition/unsafe-image-review-workflow\", \"DataAttributes\": {\"ContentClassifiers\": [\"FreeOfPersonallyIdentifiableInformation\", \"FreeOfAdultContent\"]}}'"
   ]
  },
  {
   "cell_type": "markdown",
   "metadata": {},
   "source": [
    "You can run the same command for all images provided in `images` folder."
   ]
  },
  {
   "cell_type": "markdown",
   "metadata": {},
   "source": [
    "Download the `output.json` file to review human loop output."
   ]
  },
  {
   "cell_type": "code",
   "execution_count": null,
   "metadata": {},
   "outputs": [],
   "source": [
    "!aws s3 cp s3://cv-on-aws-book-xxxx/chapter_11/review_data/unsafe-image-review-workflow/2022/12/22/19/25/33/image-review-human-loop/output.json ."
   ]
  }
 ],
 "metadata": {
  "kernelspec": {
   "display_name": "Python 3 (Data Science)",
   "language": "python",
   "name": "python3__SAGEMAKER_INTERNAL__arn:aws:sagemaker:us-east-1:081325390199:image/datascience-1.0"
  },
  "language_info": {
   "codemirror_mode": {
    "name": "ipython",
    "version": 3
   },
   "file_extension": ".py",
   "mimetype": "text/x-python",
   "name": "python",
   "nbconvert_exporter": "python",
   "pygments_lexer": "ipython3",
   "version": "3.7.10"
  },
  "vscode": {
   "interpreter": {
    "hash": "5628284b50e4b6c9011efabc1680bd979bbb5388d9d40dd889329c704489cf65"
   }
  }
 },
 "nbformat": 4,
 "nbformat_minor": 4
}
