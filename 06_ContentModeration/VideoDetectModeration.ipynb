{
 "cells": [
  {
   "attachments": {},
   "cell_type": "markdown",
   "metadata": {},
   "source": [
    "# Video Content Moderation  Example\n",
    "\n",
    "This notebook contains snippets for interacting with the Amazon Rekognition Video's Content Modertion API."
   ]
  },
  {
   "attachments": {},
   "cell_type": "markdown",
   "metadata": {},
   "source": [
    "Configure the global variables using the [VideoContentModeration.template](VideoContentModeration.template)'s stack **Outputs**.\n",
    "\n",
    "1. Set the `video_input_bucket` to the generated Amazon S3 bucket\n",
    "1. Set the `notification_channel_rolearn` to the generated AWS IAM role\n",
    "1. Set the `notification_channel_snstopic_arn` to the generated Amazon SNS topic"
   ]
  },
  {
   "cell_type": "code",
   "execution_count": 1,
   "metadata": {},
   "outputs": [],
   "source": [
    "import boto3\n",
    "\n",
    "region_name = 'us-east-2'\n",
    "video_input_bucket = 'videocontentmoderation-bucket83908e77-1emm2fx0ntdmb'\n",
    "notification_channel_rolearn = 'arn:aws:iam::ACCOUNTID:role/VideoContentModeration-RekognitionRole7EFA3C18-3XT1J6HBCHTU'\n",
    "notification_channel_snstopic_arn = 'arn:aws:sns:us-east-2:ACCOUNTID:VideoContentModeration-TopicBFC7AF6E-8sBlj2VzpAfm'\n",
    "rekognition = boto3.client('rekognition', region_name=region_name)"
   ]
  },
  {
   "attachments": {},
   "cell_type": "markdown",
   "metadata": {},
   "source": [
    "Use the `StartContentModeration` API to begin asyncronously processing the [contentmoderationsample.mp4](contentmoderationsample.mp4) video clip."
   ]
  },
  {
   "cell_type": "code",
   "execution_count": 2,
   "metadata": {},
   "outputs": [
    {
     "data": {
      "text/plain": [
       "{'JobId': '6f141c8a9d0dcb4154a79fedae85fa7bc37652581e18c0e8cb7925f1042d0050',\n",
       " 'ResponseMetadata': {'RequestId': 'e5cf4d98-ff0c-4c5b-9184-1a356930e64d',\n",
       "  'HTTPStatusCode': 200,\n",
       "  'HTTPHeaders': {'x-amzn-requestid': 'e5cf4d98-ff0c-4c5b-9184-1a356930e64d',\n",
       "   'content-type': 'application/x-amz-json-1.1',\n",
       "   'content-length': '76',\n",
       "   'date': 'Sun, 08 Jan 2023 20:23:10 GMT'},\n",
       "  'RetryAttempts': 0}}"
      ]
     },
     "execution_count": 2,
     "metadata": {},
     "output_type": "execute_result"
    }
   ],
   "source": [
    "moderation_job = rekognition.start_content_moderation(\n",
    "    NotificationChannel={\n",
    "        'RoleArn': notification_channel_rolearn,\n",
    "        'SNSTopicArn': notification_channel_snstopic_arn\n",
    "    },\n",
    "    Video={\n",
    "        'S3Object':{\n",
    "            'Bucket':video_input_bucket,\n",
    "            'Name':'contentmoderationsample.mp4'\n",
    "        }\n",
    "    }\n",
    ")\n",
    "\n",
    "moderation_job"
   ]
  },
  {
   "attachments": {},
   "cell_type": "markdown",
   "metadata": {},
   "source": [
    "You can check the moderation job's status using the `GetContentModeration` API."
   ]
  },
  {
   "cell_type": "code",
   "execution_count": 3,
   "metadata": {},
   "outputs": [],
   "source": [
    "response = rekognition.get_content_moderation(\n",
    "    JobId=moderation_job['JobId']\n",
    ")"
   ]
  },
  {
   "attachments": {},
   "cell_type": "markdown",
   "metadata": {},
   "source": [
    "The `get_complete_content_moderation_results` utility function will paginate the results and combine them into one logical response object."
   ]
  },
  {
   "cell_type": "code",
   "execution_count": 6,
   "metadata": {},
   "outputs": [],
   "source": [
    "def get_complete_content_moderation_results(jobId):\n",
    "    next_token = None\n",
    "    complete_response = None\n",
    "    while True:\n",
    "        if next_token:\n",
    "            response = rekognition.get_content_moderation(            \n",
    "                JobId=jobId,\n",
    "                NextToken=next_token)        \n",
    "            complete_response['ModerationLabels'].extend(response['ModerationLabels'])\n",
    "        else:\n",
    "            response = rekognition.get_content_moderation(\n",
    "                JobId=jobId)\n",
    "            complete_response = response\n",
    "        \n",
    "        if 'NextToken' in response:\n",
    "            next_token = response['NextToken']\n",
    "        else:\n",
    "            break\n",
    "    return complete_response\n",
    "\n",
    "combined_response = get_complete_content_moderation_results(moderation_job['JobId'])\n",
    "#print(combined_response)"
   ]
  },
  {
   "attachments": {},
   "cell_type": "markdown",
   "metadata": {},
   "source": [
    "Let's persist the `combined_response` into a JSON-formatted local file."
   ]
  },
  {
   "cell_type": "code",
   "execution_count": 8,
   "metadata": {},
   "outputs": [],
   "source": [
    "from json import dumps\n",
    "with open('GetContentModerationVideoResponse.json', 'w') as f:\n",
    "    f.write(dumps(combined_response,indent=2))"
   ]
  },
  {
   "attachments": {},
   "cell_type": "markdown",
   "metadata": {},
   "source": [
    "The response contains numerous labels. Let's aggregate them into a frequency table."
   ]
  },
  {
   "cell_type": "code",
   "execution_count": 7,
   "metadata": {},
   "outputs": [
    {
     "name": "stdout",
     "output_type": "stream",
     "text": [
      "{'Female Swimwear Or Underwear': 35, 'Revealing Clothes': 35, 'Suggestive': 70, 'Alcohol': 24, 'Alcoholic Beverages': 21, 'Smoking': 2, 'Tobacco': 2, 'Gambling': 2, 'Barechested Male': 35, 'Drinking': 3}\n"
     ]
    }
   ],
   "source": [
    "frequency={}\n",
    "for label in combined_response['ModerationLabels']:\n",
    "    name = label['ModerationLabel']['Name']\n",
    "    if name in frequency:\n",
    "        frequency[name] += 1\n",
    "    else:\n",
    "        frequency[name] =1\n",
    "\n",
    "print(frequency)        "
   ]
  }
 ],
 "metadata": {
  "kernelspec": {
   "display_name": "Python 3.10.2 64-bit",
   "language": "python",
   "name": "python3"
  },
  "language_info": {
   "codemirror_mode": {
    "name": "ipython",
    "version": 3
   },
   "file_extension": ".py",
   "mimetype": "text/x-python",
   "name": "python",
   "nbconvert_exporter": "python",
   "pygments_lexer": "ipython3",
   "version": "3.10.2"
  },
  "vscode": {
   "interpreter": {
    "hash": "5628284b50e4b6c9011efabc1680bd979bbb5388d9d40dd889329c704489cf65"
   }
  }
 },
 "nbformat": 4,
 "nbformat_minor": 2
}
