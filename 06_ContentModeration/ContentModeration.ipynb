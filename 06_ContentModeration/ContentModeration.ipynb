{
 "cells": [
  {
   "attachments": {},
   "cell_type": "markdown",
   "metadata": {},
   "source": [
    "# Content Moderation\n",
    "\n",
    "This notebook contains example snippets for moderating image files."
   ]
  },
  {
   "attachments": {},
   "cell_type": "markdown",
   "metadata": {},
   "source": [
    "Confirm that the `boto3` module is installed."
   ]
  },
  {
   "cell_type": "code",
   "execution_count": 5,
   "metadata": {},
   "outputs": [
    {
     "name": "stdout",
     "output_type": "stream",
     "text": [
      "Requirement already satisfied: boto3 in c:\\tools\\python3.8\\lib\\site-packages (1.17.84)\n",
      "Requirement already satisfied: botocore<1.21.0,>=1.20.84 in c:\\tools\\python3.8\\lib\\site-packages (from boto3) (1.20.84)\n",
      "Requirement already satisfied: jmespath<1.0.0,>=0.7.1 in c:\\tools\\python3.8\\lib\\site-packages (from boto3) (0.10.0)\n",
      "Requirement already satisfied: s3transfer<0.5.0,>=0.4.0 in c:\\tools\\python3.8\\lib\\site-packages (from boto3) (0.4.2)\n",
      "Requirement already satisfied: python-dateutil<3.0.0,>=2.1 in c:\\tools\\python3.8\\lib\\site-packages (from botocore<1.21.0,>=1.20.84->boto3) (2.8.1)\n",
      "Requirement already satisfied: urllib3<1.27,>=1.25.4 in c:\\tools\\python3.8\\lib\\site-packages (from botocore<1.21.0,>=1.20.84->boto3) (1.26.2)\n",
      "Requirement already satisfied: six>=1.5 in c:\\tools\\python3.8\\lib\\site-packages (from python-dateutil<3.0.0,>=2.1->botocore<1.21.0,>=1.20.84->boto3) (1.15.0)\n"
     ]
    },
    {
     "name": "stderr",
     "output_type": "stream",
     "text": [
      "WARNING: You are using pip version 21.0; however, version 22.2.2 is available.\n",
      "You should consider upgrading via the 'c:\\tools\\python3.8\\python.exe -m pip install --upgrade pip' command.\n"
     ]
    }
   ],
   "source": [
    "!pip3 install boto3"
   ]
  },
  {
   "attachments": {},
   "cell_type": "markdown",
   "metadata": {},
   "source": [
    "Configure the global variables for this notebook.\n",
    "\n",
    "1. Set the `bucket_name` to an Amazon S3 bucket within your AWS account\n",
    "1. Set the `region_name` to the AWS Region containing the bucket\n",
    "1. Create the `rekognition` client for the same region"
   ]
  },
  {
   "cell_type": "code",
   "execution_count": 6,
   "metadata": {},
   "outputs": [],
   "source": [
    "import boto3\n",
    "\n",
    "bucket_name = 'cv-on-aws-book-nbachmei'\n",
    "region_name = 'us-east-2'\n",
    "rekognition = boto3.client('rekognition', region_name=region_name)"
   ]
  },
  {
   "attachments": {},
   "cell_type": "markdown",
   "metadata": {},
   "source": [
    "The `moderate_image` function passes an Amazon S3 location to the `DetectModerationLabels` API."
   ]
  },
  {
   "cell_type": "code",
   "execution_count": null,
   "metadata": {},
   "outputs": [],
   "source": [
    "photo='06_ContentModeration/images/swimwear.jpg'\n",
    "\n",
    "def moderate_image(photo, bucket):    \n",
    "    response = rekognition.detect_moderation_labels(Image={'S3Object':{'Bucket':bucket,'Name':photo}})\n",
    "\n",
    "    print('Detected labels for ' + photo)    \n",
    "    for label in response['ModerationLabels']:\n",
    "        print (label['Name'] + ' : ' + str(label['Confidence']))\n",
    "        print (label['ParentName'])\n",
    "    return len(response['ModerationLabels'])\n",
    "\n",
    "def main():    \n",
    "    label_count=moderate_image(photo, bucket_name)\n",
    "    print(\"Labels detected: \" + str(label_count))"
   ]
  },
  {
   "attachments": {},
   "cell_type": "markdown",
   "metadata": {},
   "source": [
    "You can define policies that use the `detect_moderation_reponse` to confirm concepts are present or missing. For example, the `contains_alcohol` function returns **True** for any `top_level` category of Alcohol"
   ]
  },
  {
   "cell_type": "code",
   "execution_count": null,
   "metadata": {},
   "outputs": [],
   "source": [
    "def contains_alcohol(detect_moderation_response):\n",
    "    for label in detect_moderation_response['ModerationLabels']:\n",
    "        top_level = label['ParentName']\n",
    "        confidence = label['Confidence']\n",
    "\n",
    "        if top_level == \"Alcohol\":\n",
    "            print('Alcohol detected - %2.2f%%.' % confidence)\n",
    "            return False\n",
    "\n",
    "    return True"
   ]
  },
  {
   "attachments": {},
   "cell_type": "markdown",
   "metadata": {},
   "source": [
    "You can also define more fine-grained policies by targeting the label's `secondary_level`."
   ]
  },
  {
   "cell_type": "code",
   "execution_count": null,
   "metadata": {},
   "outputs": [],
   "source": [
    "ALLOWED_SUGGESTIVE_LABELS= [\n",
    "    'Female Swimwear Or Underwear',\n",
    "    'Male Swimwear Or Underwear']\n",
    "\n",
    "def contains_appropriate_attire(detect_moderation_response):\n",
    "    for label in detect_moderation_response['ModerationLabels']:\n",
    "        top_level = label['ParentName']\n",
    "        secondary_level = label['Name']\n",
    "        confidence = label['Confidence']\n",
    "\n",
    "        if top_level == \"Explicit Nudity\":\n",
    "            print('Explicit Nudity detected - %2.2f%%.' % confidence)\n",
    "            return False\n",
    "\n",
    "        if top_level == \"Suggestive\":\n",
    "            if secondary_level not in ALLOWED_SUGGESTIVE_LABELS:\n",
    "                print('Prohibited Suggestive[%s] detected - %2.2f%%.' % \n",
    "                    (secondary_level, confidence))\n",
    "                return False\n",
    "            else:                \n",
    "                print('Allowed Suggestive[%s] detected - %2.2f%%.' % \n",
    "                    (secondary_level, confidence))\n",
    "\n",
    "    return True"
   ]
  },
  {
   "attachments": {},
   "cell_type": "markdown",
   "metadata": {},
   "source": [
    "Let's combine these polices into a simple check. Notice how this pattern results in very readable definitions!\n",
    "\n",
    "```\n",
    "if not contains_alcohol(response) and contains_appropriate_attire(response):\n",
    "        return True\n",
    "    return False\n",
    "```"
   ]
  },
  {
   "cell_type": "code",
   "execution_count": null,
   "metadata": {},
   "outputs": [],
   "source": [
    "import boto3\n",
    "\n",
    "bucket_name = 'cv-on-aws-book-nbachmei'\n",
    "photo='06_ContentModeration/images/swimwear.jpg'\n",
    "region_name = 'us-east-2'\n",
    "rekognition = boto3.client('rekognition', region_name=region_name)\n",
    "\n",
    "ALLOWED_SUGGESTIVE_LABELS= [\n",
    "    'Female Swimwear Or Underwear',\n",
    "    'Male Swimwear Or Underwear']\n",
    "\n",
    "def contains_appropriate_attire(detect_moderation_response):\n",
    "    for label in detect_moderation_response['ModerationLabels']:\n",
    "        top_level = label['ParentName']\n",
    "        secondary_level = label['Name']\n",
    "        confidence = label['Confidence']\n",
    "\n",
    "        if top_level == \"Explicit Nudity\":\n",
    "            print('Explicit Nudity detected - %2.2f%%.' % confidence)\n",
    "            return False\n",
    "\n",
    "        if top_level == \"Suggestive\":\n",
    "            if secondary_level not in ALLOWED_SUGGESTIVE_LABELS:\n",
    "                print('Prohibited Suggestive[%s] detected - %2.2f%%.' % \n",
    "                    (secondary_level, confidence))\n",
    "                return False\n",
    "            else:                \n",
    "                print('Allowed Suggestive[%s] detected - %2.2f%%.' % \n",
    "                    (secondary_level, confidence))\n",
    "\n",
    "    return True\n",
    "\n",
    "def contains_alcohol(detect_moderation_response):\n",
    "    for label in detect_moderation_response['ModerationLabels']:\n",
    "        top_level = label['ParentName']\n",
    "        confidence = label['Confidence']\n",
    "\n",
    "        if top_level == \"Alcohol\":\n",
    "            print('Alcohol detected - %2.2f%%.' % confidence)\n",
    "            return False\n",
    "\n",
    "    return True  \n",
    "\n",
    "def moderate_image(photo, bucket):    \n",
    "    response = rekognition.detect_moderation_labels(Image={'S3Object':{'Bucket':bucket,'Name':photo}})\n",
    "\n",
    "    if not contains_alcohol(response) and contains_appropriate_attire(response):\n",
    "        return True\n",
    "    return False\n",
    "\n",
    "def main():    \n",
    "    label_count=moderate_image(photo, bucket_name)\n",
    "    print(\"Labels detected: \" + str(label_count))"
   ]
  }
 ],
 "metadata": {
  "kernelspec": {
   "display_name": "Python 3.10.2 64-bit",
   "language": "python",
   "name": "python3"
  },
  "language_info": {
   "codemirror_mode": {
    "name": "ipython",
    "version": 3
   },
   "file_extension": ".py",
   "mimetype": "text/x-python",
   "name": "python",
   "nbconvert_exporter": "python",
   "pygments_lexer": "ipython3",
   "version": "3.10.2"
  },
  "vscode": {
   "interpreter": {
    "hash": "5628284b50e4b6c9011efabc1680bd979bbb5388d9d40dd889329c704489cf65"
   }
  }
 },
 "nbformat": 4,
 "nbformat_minor": 2
}
