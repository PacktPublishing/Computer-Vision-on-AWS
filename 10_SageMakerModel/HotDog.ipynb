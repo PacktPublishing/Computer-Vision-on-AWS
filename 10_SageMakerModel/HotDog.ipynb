{
 "cells": [
  {
   "attachments": {},
   "cell_type": "markdown",
   "id": "0d4536e8",
   "metadata": {},
   "source": [
    "# HotDog, Not HotDog\n",
    "\n",
    "This notebook contains snippets for processing the [hotdot-nothotdot](hotdot-nothotdot) dataset."
   ]
  },
  {
   "attachments": {},
   "cell_type": "markdown",
   "id": "eda7333c",
   "metadata": {},
   "source": [
    "Configure the global variables for this notebook.\n",
    "\n",
    "1. Set the `bucket_name` to an Amazon S3 bucket within your AWS account\n",
    "1. Set the `prefix` to the path prefix where you uploaded the [hotdot-nothotdot](hotdot-nothotdot) dataset\n",
    "1. Set the `region_name` to the same AWS Region containing your Amazon S3 bucket"
   ]
  },
  {
   "cell_type": "code",
   "execution_count": null,
   "id": "e2c346bf",
   "metadata": {},
   "outputs": [],
   "source": [
    "bucket_name='ch10-cv-book-use2'\n",
    "prefix = 'sagemaker/hotdog-nothotdog'\n",
    "region_name='us-east-2'"
   ]
  },
  {
   "attachments": {},
   "cell_type": "markdown",
   "id": "1cbdb1c4",
   "metadata": {},
   "source": [
    "Use the `boto3` module to create the Amazon S3 client."
   ]
  },
  {
   "cell_type": "code",
   "execution_count": 6,
   "id": "fe35e21a",
   "metadata": {},
   "outputs": [],
   "source": [
    "import boto3\n",
    "\n",
    "s3_client = boto3.client('s3',region_name=region_name)"
   ]
  },
  {
   "attachments": {},
   "cell_type": "markdown",
   "id": "c5b05116",
   "metadata": {},
   "source": [
    "Use the `ListObjectsV2` API to find the `files` within the `bucket_name`"
   ]
  },
  {
   "cell_type": "code",
   "execution_count": 12,
   "id": "056c6e04",
   "metadata": {},
   "outputs": [],
   "source": [
    "files=[]\n",
    "paginator = s3_client.get_paginator('list_objects_v2')\n",
    "pages = paginator.paginate(Bucket=bucket_name, Prefix=prefix)\n",
    "for page in pages:\n",
    "    for obj in page['Contents']:\n",
    "        files.append(obj['Key'])"
   ]
  },
  {
   "attachments": {},
   "cell_type": "markdown",
   "id": "d2f78885",
   "metadata": {},
   "source": [
    "You can optionally use the `imghdr` module to confirm every image is a valid JPEG file."
   ]
  },
  {
   "cell_type": "code",
   "execution_count": 75,
   "id": "972173dd",
   "metadata": {},
   "outputs": [
    {
     "name": "stdout",
     "output_type": "stream",
     "text": [
      "0\n"
     ]
    }
   ],
   "source": [
    "import imghdr\n",
    "bad = []\n",
    "from io import BytesIO\n",
    "for file in files:\n",
    "    if not file.endswith('.jpg'):\n",
    "        continue\n",
    "        \n",
    "    image = BytesIO(s3_client.get_object(Bucket=bucket_name, Key=file)['Body'].read())\n",
    "    image.seek(0)    \n",
    "    if not imghdr.what(image) == 'jpeg':\n",
    "        bad.append(file)\n",
    "        \n",
    "print(len(bad))"
   ]
  },
  {
   "attachments": {},
   "cell_type": "markdown",
   "id": "a4351e2c",
   "metadata": {},
   "source": [
    "The `get_dataset` function splits the `test` or `train` dataset into the two labeled file types."
   ]
  },
  {
   "cell_type": "code",
   "execution_count": 66,
   "id": "b71243ff",
   "metadata": {},
   "outputs": [],
   "source": [
    "def get_dataset(name):\n",
    "    ds = {'hotdog':[], 'nothotdog':[]}\n",
    "    for file in files:\n",
    "        if not file.endswith('.jpg'):\n",
    "            continue\n",
    "        if not '/%s/' % name in file:\n",
    "            continue\n",
    "        if '/hotdog/' in file:\n",
    "            ds['hotdog'].append(file)\n",
    "        elif '/nothotdog/' in file:\n",
    "            ds['nothotdog'].append(file)\n",
    "    return ds\n",
    "        \n",
    "train_ds = get_dataset('train')\n",
    "test_ds = get_dataset('test')"
   ]
  },
  {
   "attachments": {},
   "cell_type": "markdown",
   "id": "19a07263",
   "metadata": {},
   "source": [
    "Let's create the `train_lst` and `test_lst` channel files for the `CreateTrainingJob` API."
   ]
  },
  {
   "cell_type": "code",
   "execution_count": 74,
   "id": "779f6ee8",
   "metadata": {},
   "outputs": [
    {
     "data": {
      "text/plain": [
       "{'ResponseMetadata': {'RequestId': 'QA5E114KZ0PCQQSJ',\n",
       "  'HostId': '+EZqiDePQdaPjVq84j5NMSVDk+4VEwMZ/0eVVfKgEuNAG5IwqexnVBBdxJgdlf8ysdK/vxGWtYV2ed/BCr5hPQ==',\n",
       "  'HTTPStatusCode': 200,\n",
       "  'HTTPHeaders': {'x-amz-id-2': '+EZqiDePQdaPjVq84j5NMSVDk+4VEwMZ/0eVVfKgEuNAG5IwqexnVBBdxJgdlf8ysdK/vxGWtYV2ed/BCr5hPQ==',\n",
       "   'x-amz-request-id': 'QA5E114KZ0PCQQSJ',\n",
       "   'date': 'Sun, 05 Feb 2023 20:55:50 GMT',\n",
       "   'x-amz-server-side-encryption': 'AES256',\n",
       "   'etag': '\"654dd6a32aad4e0bc8ec162b16398b2c\"',\n",
       "   'server': 'AmazonS3',\n",
       "   'content-length': '0'},\n",
       "  'RetryAttempts': 0},\n",
       " 'ETag': '\"654dd6a32aad4e0bc8ec162b16398b2c\"',\n",
       " 'ServerSideEncryption': 'AES256'}"
      ]
     },
     "execution_count": 74,
     "metadata": {},
     "output_type": "execute_result"
    }
   ],
   "source": [
    "from os import path\n",
    "def create_channel(ds):\n",
    "    channel=[]\n",
    "    for label in ds.keys():\n",
    "        for obj in ds[label]:\n",
    "            identifier = path.splitext(path.basename(obj))[0]\n",
    "            relpath = '%s/%s.jpg' % (label, identifier)\n",
    "            class_id = 1 if label == 'hotdog' else 0\n",
    "            channel.append('%s\\t%s\\t%s' %(\n",
    "                identifier,\n",
    "                class_id,\n",
    "                relpath\n",
    "            ))\n",
    "    return channel\n",
    "\n",
    "train_lst = '\\n'.join(create_channel(train_ds))\n",
    "test_lst = '\\n'.join(create_channel(test_ds))\n",
    "\n",
    "s3_client.put_object(\n",
    "    Bucket=bucket_name,\n",
    "    Key='sagemaker/hotdog-nothotdog/train.lst',\n",
    "    Body=train_lst)\n",
    "\n",
    "s3_client.put_object(\n",
    "    Bucket=bucket_name,\n",
    "    Key='sagemaker/hotdog-nothotdog/validation.lst',\n",
    "    Body=test_lst)"
   ]
  },
  {
   "attachments": {},
   "cell_type": "markdown",
   "id": "9913318b",
   "metadata": {},
   "source": [
    "Create the Amazon SageMaker client for the same AWS region."
   ]
  },
  {
   "cell_type": "code",
   "execution_count": 28,
   "id": "f285cc58",
   "metadata": {},
   "outputs": [],
   "source": [
    "sagemaker = boto3.client('sagemaker', region_name=region_name)"
   ]
  },
  {
   "attachments": {},
   "cell_type": "markdown",
   "id": "d78e8c66",
   "metadata": {},
   "source": [
    "Use the `CreateTrainingJob` API to test the client. You can find the appropriate parameters for this action by starting in the AWS management console then calling the `DescribeTrainingJob` API. "
   ]
  },
  {
   "cell_type": "code",
   "execution_count": null,
   "id": "d706cc71",
   "metadata": {},
   "outputs": [],
   "source": [
    "sagemaker.create_training_job(\n",
    "    TrainingJobName=\"hotdog-nothotdog\",\n",
    "    HyperParameters={\n",
    "        \"beta_1\": \"0.9\",\n",
    "        \"beta_2\": \"0.999\",\n",
    "        \"checkpoint_frequency\": \"1\",\n",
    "        \"early_stopping\": \"false\",\n",
    "        \"early_stopping_min_epochs\": \"10\",\n",
    "        \"early_stopping_patience\": \"5\",\n",
    "        \"early_stopping_tolerance\": \"0.0\",\n",
    "        \"epochs\": \"30\",\n",
    "        \"eps\": \"1e-8\",\n",
    "        \"gamma\": \"0.9\",\n",
    "        \"image_shape\": \"3,224,224\",\n",
    "        \"learning_rate\": \"0.1\",\n",
    "        \"lr_scheduler_factor\": \"0.1\",\n",
    "        \"mini_batch_size\": \"32\",\n",
    "        \"momentum\": \"0.9\",\n",
    "        \"multi_label\": \"0\",\n",
    "        \"num_classes\": \"2\",\n",
    "        \"num_layers\": \"152\",\n",
    "        \"num_training_samples\": \"3000\",\n",
    "        \"optimizer\": \"sgd\",\n",
    "        \"precision_dtype\": \"float32\",\n",
    "        \"use_pretrained_model\": \"0\",\n",
    "        \"use_weighted_loss\": \"0\",\n",
    "        \"weight_decay\": \"0.0001\"\n",
    "    },\n",
    "    AlgorithmSpecification= {\n",
    "        \"TrainingImage\": \"825641698319.dkr.ecr.us-east-2.amazonaws.com/image-classification:1\",\n",
    "        \"TrainingInputMode\": \"File\",\n",
    "        \"MetricDefinitions\": [\n",
    "            {\n",
    "                \"Name\": \"train:accuracy\",\n",
    "                \"Regex\": \"Epoch\\\\S* Train-accuracy=(\\\\S*)\"\n",
    "            },\n",
    "            {\n",
    "                \"Name\": \"validation:accuracy\",\n",
    "                \"Regex\": \"Epoch\\\\S* Validation-accuracy=(\\\\S*)\"\n",
    "            },\n",
    "            {\n",
    "                \"Name\": \"train:accuracy:epoch\",\n",
    "                \"Regex\": \"Epoch\\\\S* Train-accuracy=(\\\\S*)\"\n",
    "            },\n",
    "            {\n",
    "                \"Name\": \"validation:accuracy:epoch\",\n",
    "                \"Regex\": \"Epoch\\\\S* Validation-accuracy=(\\\\S*)\"\n",
    "            }\n",
    "        ],\n",
    "        \"EnableSageMakerMetricsTimeSeries\": False\n",
    "    },\n",
    "    RoleArn=\"arn:aws:iam::028973425348:role/service-role/AmazonSageMaker-ExecutionRole-20220322T125487\",\n",
    "    InputDataConfig=[\n",
    "        {\n",
    "            \"ChannelName\": \"train\",\n",
    "            \"DataSource\": {\n",
    "                \"S3DataSource\": {\n",
    "                    \"S3DataType\": \"S3Prefix\",\n",
    "                    \"S3Uri\": \"s3://ch10-cv-book-use2/sagemaker/hotdog-nothotdog/train\",\n",
    "                    \"S3DataDistributionType\": \"FullyReplicated\"\n",
    "                }\n",
    "            },\n",
    "            \"ContentType\": \"application/x-image\",\n",
    "            \"CompressionType\": \"None\",\n",
    "            \"RecordWrapperType\": \"None\",\n",
    "            \"InputMode\": \"File\"\n",
    "        },\n",
    "        {\n",
    "            \"ChannelName\": \"validation\",\n",
    "            \"DataSource\": {\n",
    "                \"S3DataSource\": {\n",
    "                    \"S3DataType\": \"S3Prefix\",\n",
    "                    \"S3Uri\": \"s3://ch10-cv-book-use2/sagemaker/hotdog-nothotdog/test\",\n",
    "                    \"S3DataDistributionType\": \"FullyReplicated\"\n",
    "                }\n",
    "            },\n",
    "            \"ContentType\": \"application/x-image\",\n",
    "            \"CompressionType\": \"None\",\n",
    "            \"RecordWrapperType\": \"None\",\n",
    "            \"InputMode\": \"File\"\n",
    "        },\n",
    "        {\n",
    "            \"ChannelName\": \"train_lst\",\n",
    "            \"DataSource\": {\n",
    "                \"S3DataSource\": {\n",
    "                    \"S3DataType\": \"S3Prefix\",\n",
    "                    \"S3Uri\": \"s3://ch10-cv-book-use2/sagemaker/hotdog-nothotdog/train.lst\",\n",
    "                    \"S3DataDistributionType\": \"FullyReplicated\"\n",
    "                }\n",
    "            },\n",
    "            \"ContentType\": \"application/x-image\",\n",
    "            \"CompressionType\": \"None\",\n",
    "            \"RecordWrapperType\": \"None\",\n",
    "            \"InputMode\": \"File\"\n",
    "        },\n",
    "        {\n",
    "            \"ChannelName\": \"validation_lst\",\n",
    "            \"DataSource\": {\n",
    "                \"S3DataSource\": {\n",
    "                    \"S3DataType\": \"S3Prefix\",\n",
    "                    \"S3Uri\": \"s3://ch10-cv-book-use2/sagemaker/hotdog-nothotdog/validation.lst\",\n",
    "                    \"S3DataDistributionType\": \"FullyReplicated\"\n",
    "                }\n",
    "            },\n",
    "            \"ContentType\": \"application/x-image\",\n",
    "            \"CompressionType\": \"None\",\n",
    "            \"RecordWrapperType\": \"None\",\n",
    "            \"InputMode\": \"File\"\n",
    "        }\n",
    "    ],\n",
    "    OutputDataConfig={\n",
    "        \"KmsKeyId\": \"\",\n",
    "        \"S3OutputPath\": \"s3://ch10-cv-book-use2/sagemaker/output/hotdog-nothotdog/\"\n",
    "    },\n",
    "    ResourceConfig= {\n",
    "        \"InstanceType\": \"ml.p2.xlarge\",\n",
    "        \"InstanceCount\": 1,\n",
    "        \"VolumeSizeInGB\": 5\n",
    "    },\n",
    "    StoppingCondition={\n",
    "        \"MaxRuntimeInSeconds\": 86400\n",
    "    },\n",
    "    CheckpointConfig= {\n",
    "        \"S3Uri\": \"s3://ch10-cv-book-use2/sagemaker/checkpoint/hotdog-nothotdog.checkpoint\"\n",
    "    })"
   ]
  },
  {
   "cell_type": "code",
   "execution_count": 61,
   "id": "04b6cf8e",
   "metadata": {},
   "outputs": [
    {
     "name": "stdout",
     "output_type": "stream",
     "text": [
      "0\n"
     ]
    }
   ],
   "source": []
  }
 ],
 "metadata": {
  "kernelspec": {
   "display_name": "conda_tensorflow2_p310",
   "language": "python",
   "name": "conda_tensorflow2_p310"
  },
  "language_info": {
   "codemirror_mode": {
    "name": "ipython",
    "version": 3
   },
   "file_extension": ".py",
   "mimetype": "text/x-python",
   "name": "python",
   "nbconvert_exporter": "python",
   "pygments_lexer": "ipython3",
   "version": "3.10.6"
  }
 },
 "nbformat": 4,
 "nbformat_minor": 5
}
