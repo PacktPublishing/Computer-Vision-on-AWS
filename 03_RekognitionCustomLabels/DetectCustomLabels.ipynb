{
 "cells": [
  {
   "cell_type": "markdown",
   "metadata": {},
   "source": [
    "# Amazon Rekognition Custom Labels"
   ]
  },
  {
   "cell_type": "markdown",
   "metadata": {},
   "source": [
    "First, you'll need to install the AWS SDK for Python-- [boto3](https://boto3.amazonaws.com/v1/documentation/api/latest/index.html). This module generates our service clients and simplifies accessing AWS APIs."
   ]
  },
  {
   "cell_type": "code",
   "execution_count": null,
   "metadata": {},
   "outputs": [],
   "source": [
    "!pip3 install boto3"
   ]
  },
  {
   "cell_type": "markdown",
   "metadata": {},
   "source": [
    "Next, configure this notebooks global settings. \n",
    "\n",
    "1. Set the `bucket_name` variable to an S3 bucket within your AWS account\n",
    "1. Set the `region_name` to the S3 bucket's region\n",
    "1. Create the `rekognition` client for the same region"
   ]
  },
  {
   "cell_type": "code",
   "execution_count": null,
   "metadata": {},
   "outputs": [],
   "source": [
    "import boto3\n",
    "import io\n",
    "from PIL import Image, ImageDraw, ExifTags, ImageColor, ImageFont"
   ]
  },
  {
   "cell_type": "code",
   "execution_count": null,
   "metadata": {},
   "outputs": [],
   "source": [
    "bucket_name = 'cv-on-aws-book-xxxx'\n",
    "region_name = 'us-east-2'\n",
    "object_name = 'chapter_03/locate_packt_logo.jpeg'\n",
    "rekognition = boto3.client('rekognition', region_name=region_name)"
   ]
  },
  {
   "cell_type": "markdown",
   "metadata": {},
   "source": [
    "Copy images to S3 folder."
   ]
  },
  {
   "cell_type": "code",
   "execution_count": null,
   "metadata": {},
   "outputs": [],
   "source": [
    "!aws s3 sync 03_RekognitionCustomLabels/images s3://cv-on-aws-book-xxxx/chapter_03/images --region us-east-2"
   ]
  },
  {
   "cell_type": "markdown",
   "metadata": {},
   "source": [
    "After training the model, follow the steps below."
   ]
  },
  {
   "cell_type": "markdown",
   "metadata": {},
   "source": [
    "Now, let's invoke the `DetectCustomLabels` API to inspect the `chapter_03/locate_packt_logo.jpeg` image."
   ]
  },
  {
   "cell_type": "code",
   "execution_count": null,
   "metadata": {},
   "outputs": [],
   "source": [
    "model='arn:aws:rekognition:us-east-2:264701418850:project/Packt-logo-detection/version/Packt-logo-detection.2022-08-23T20.23.19/1661300599617'\n",
    "\n",
    "min_confidence=85"
   ]
  },
  {
   "cell_type": "code",
   "execution_count": null,
   "metadata": {},
   "outputs": [],
   "source": [
    "response = rekognition.detect_custom_labels(\n",
    "    Image={\n",
    "        'S3Object': {\n",
    "            'Bucket': bucket_name,\n",
    "            'Name': object_name\n",
    "        }\n",
    "    },\n",
    "    MinConfidence=min_confidence,\n",
    "    ProjectVersionArn=model\n",
    ")\n",
    "\n",
    "print(response)"
   ]
  },
  {
   "cell_type": "markdown",
   "metadata": {},
   "source": [
    "Let's draw bounding box around the label."
   ]
  },
  {
   "cell_type": "code",
   "execution_count": null,
   "metadata": {},
   "outputs": [],
   "source": [
    "# Load image from S3 bucket\n",
    "s3_connection = boto3.resource('s3')\n",
    "\n",
    "s3_object = s3_connection.Object(bucket_name,object_name)\n",
    "s3_response = s3_object.get()\n",
    "\n",
    "stream = io.BytesIO(s3_response['Body'].read())\n",
    "image=Image.open(stream)\n",
    "\n",
    "# Ready image to draw bounding boxes on it.\n",
    "imgWidth, imgHeight = image.size\n",
    "draw = ImageDraw.Draw(image)\n",
    "\n",
    "# calculate and display bounding boxes for each detected custom label\n",
    "print('Detected custom labels for ' + object_name)\n",
    "for customLabel in response['CustomLabels']:\n",
    "    print('Label \\\"' + str(customLabel['Name'])+'\\\"')\n",
    "    print('Confidence ' + str(customLabel['Confidence']))\n",
    "    if 'Geometry' in customLabel:\n",
    "        box = customLabel['Geometry']['BoundingBox']\n",
    "        left = imgWidth * box['Left']\n",
    "        top = imgHeight * box['Top']\n",
    "        width = imgWidth * box['Width']\n",
    "        height = imgHeight * box['Height']\n",
    "\n",
    "        fnt = ImageFont.load_default()\n",
    "        draw.text((left,top), customLabel['Name'], fill='#00d400', font=fnt)\n",
    "\n",
    "        print('Left: ' + '{0:.0f}'.format(left))\n",
    "        print('Top: ' + '{0:.0f}'.format(top))\n",
    "        print('Label Width: ' + \"{0:.0f}\".format(width))\n",
    "        print('Label Height: ' + \"{0:.0f}\".format(height))\n",
    "\n",
    "        points = (\n",
    "            (left,top),\n",
    "            (left + width, top),\n",
    "            (left + width, top + height),\n",
    "            (left , top + height),\n",
    "            (left, top))\n",
    "        draw.line(points, fill='#00d400', width=5)\n",
    "\n",
    "image.show()"
   ]
  },
  {
   "cell_type": "code",
   "execution_count": null,
   "metadata": {},
   "outputs": [],
   "source": []
  }
 ],
 "metadata": {
  "kernelspec": {
   "display_name": "conda_python3",
   "language": "python",
   "name": "conda_python3"
  },
  "language_info": {
   "codemirror_mode": {
    "name": "ipython",
    "version": 3
   },
   "file_extension": ".py",
   "mimetype": "text/x-python",
   "name": "python",
   "nbconvert_exporter": "python",
   "pygments_lexer": "ipython3",
   "version": "3.10.8"
  },
  "vscode": {
   "interpreter": {
    "hash": "5628284b50e4b6c9011efabc1680bd979bbb5388d9d40dd889329c704489cf65"
   }
  }
 },
 "nbformat": 4,
 "nbformat_minor": 4
}
